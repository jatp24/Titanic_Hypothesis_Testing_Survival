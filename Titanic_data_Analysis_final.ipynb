{
 "cells": [
  {
   "cell_type": "markdown",
   "metadata": {},
   "source": [
    "#                                         Titanic DataSet Analysis\n"
   ]
  },
  {
   "cell_type": "code",
   "execution_count": 87,
   "metadata": {
    "collapsed": true
   },
   "outputs": [],
   "source": [
    "import csv\n",
    "import numpy as np\n",
    "import pandas as pd\n",
    "import matplotlib as plt\n",
    "import seaborn as sns\n"
   ]
  },
  {
   "cell_type": "markdown",
   "metadata": {},
   "source": [
    "For this analysis we are going to go through a titanic csv dataset and conduct an analytical investigation on what factors contributed to the survival of those who survived the titanic. "
   ]
  },
  {
   "cell_type": "markdown",
   "metadata": {},
   "source": [
    "For this analysis I will be focused on investigating the following questions about surviving the titanic.\n",
    "1. Is there a gender gap between people who survived and people who died?\n",
    "2. What is the age gap bewteen people who survived and people who lived?\n",
    "3. What is the relationship between age and sex of survivor?\n",
    "4. Is there a relationship between embarkment location and pclass to survival?\n",
    "\n",
    "Finally, there is a conclusion about the data analysis and a recommendation for more indept analysis.\n"
   ]
  },
  {
   "cell_type": "markdown",
   "metadata": {},
   "source": [
    "## Wrangling Data"
   ]
  },
  {
   "cell_type": "markdown",
   "metadata": {},
   "source": [
    " First we are going to acquire data by reading \"Titanic_data.csv\" with pandas"
   ]
  },
  {
   "cell_type": "code",
   "execution_count": 88,
   "metadata": {
    "collapsed": false,
    "scrolled": true
   },
   "outputs": [
    {
     "data": {
      "text/html": [
       "<div>\n",
       "<table border=\"1\" class=\"dataframe\">\n",
       "  <thead>\n",
       "    <tr style=\"text-align: right;\">\n",
       "      <th></th>\n",
       "      <th>PassengerId</th>\n",
       "      <th>Survived</th>\n",
       "      <th>Pclass</th>\n",
       "      <th>Name</th>\n",
       "      <th>Sex</th>\n",
       "      <th>Age</th>\n",
       "      <th>SibSp</th>\n",
       "      <th>Parch</th>\n",
       "      <th>Ticket</th>\n",
       "      <th>Fare</th>\n",
       "      <th>Cabin</th>\n",
       "      <th>Embarked</th>\n",
       "    </tr>\n",
       "  </thead>\n",
       "  <tbody>\n",
       "    <tr>\n",
       "      <th>0</th>\n",
       "      <td>1</td>\n",
       "      <td>0</td>\n",
       "      <td>3</td>\n",
       "      <td>Braund, Mr. Owen Harris</td>\n",
       "      <td>male</td>\n",
       "      <td>22.0</td>\n",
       "      <td>1</td>\n",
       "      <td>0</td>\n",
       "      <td>A/5 21171</td>\n",
       "      <td>7.2500</td>\n",
       "      <td>NaN</td>\n",
       "      <td>S</td>\n",
       "    </tr>\n",
       "    <tr>\n",
       "      <th>1</th>\n",
       "      <td>2</td>\n",
       "      <td>1</td>\n",
       "      <td>1</td>\n",
       "      <td>Cumings, Mrs. John Bradley (Florence Briggs Th...</td>\n",
       "      <td>female</td>\n",
       "      <td>38.0</td>\n",
       "      <td>1</td>\n",
       "      <td>0</td>\n",
       "      <td>PC 17599</td>\n",
       "      <td>71.2833</td>\n",
       "      <td>C85</td>\n",
       "      <td>C</td>\n",
       "    </tr>\n",
       "    <tr>\n",
       "      <th>2</th>\n",
       "      <td>3</td>\n",
       "      <td>1</td>\n",
       "      <td>3</td>\n",
       "      <td>Heikkinen, Miss. Laina</td>\n",
       "      <td>female</td>\n",
       "      <td>26.0</td>\n",
       "      <td>0</td>\n",
       "      <td>0</td>\n",
       "      <td>STON/O2. 3101282</td>\n",
       "      <td>7.9250</td>\n",
       "      <td>NaN</td>\n",
       "      <td>S</td>\n",
       "    </tr>\n",
       "    <tr>\n",
       "      <th>3</th>\n",
       "      <td>4</td>\n",
       "      <td>1</td>\n",
       "      <td>1</td>\n",
       "      <td>Futrelle, Mrs. Jacques Heath (Lily May Peel)</td>\n",
       "      <td>female</td>\n",
       "      <td>35.0</td>\n",
       "      <td>1</td>\n",
       "      <td>0</td>\n",
       "      <td>113803</td>\n",
       "      <td>53.1000</td>\n",
       "      <td>C123</td>\n",
       "      <td>S</td>\n",
       "    </tr>\n",
       "    <tr>\n",
       "      <th>4</th>\n",
       "      <td>5</td>\n",
       "      <td>0</td>\n",
       "      <td>3</td>\n",
       "      <td>Allen, Mr. William Henry</td>\n",
       "      <td>male</td>\n",
       "      <td>35.0</td>\n",
       "      <td>0</td>\n",
       "      <td>0</td>\n",
       "      <td>373450</td>\n",
       "      <td>8.0500</td>\n",
       "      <td>NaN</td>\n",
       "      <td>S</td>\n",
       "    </tr>\n",
       "  </tbody>\n",
       "</table>\n",
       "</div>"
      ],
      "text/plain": [
       "   PassengerId  Survived  Pclass  \\\n",
       "0            1         0       3   \n",
       "1            2         1       1   \n",
       "2            3         1       3   \n",
       "3            4         1       1   \n",
       "4            5         0       3   \n",
       "\n",
       "                                                Name     Sex   Age  SibSp  \\\n",
       "0                            Braund, Mr. Owen Harris    male  22.0      1   \n",
       "1  Cumings, Mrs. John Bradley (Florence Briggs Th...  female  38.0      1   \n",
       "2                             Heikkinen, Miss. Laina  female  26.0      0   \n",
       "3       Futrelle, Mrs. Jacques Heath (Lily May Peel)  female  35.0      1   \n",
       "4                           Allen, Mr. William Henry    male  35.0      0   \n",
       "\n",
       "   Parch            Ticket     Fare Cabin Embarked  \n",
       "0      0         A/5 21171   7.2500   NaN        S  \n",
       "1      0          PC 17599  71.2833   C85        C  \n",
       "2      0  STON/O2. 3101282   7.9250   NaN        S  \n",
       "3      0            113803  53.1000  C123        S  \n",
       "4      0            373450   8.0500   NaN        S  "
      ]
     },
     "execution_count": 88,
     "metadata": {},
     "output_type": "execute_result"
    }
   ],
   "source": [
    "titanic_df = pd.read_csv(\"titanic_data.csv\")\n",
    "titanic_df.head()"
   ]
  },
  {
   "cell_type": "code",
   "execution_count": 89,
   "metadata": {
    "collapsed": false
   },
   "outputs": [
    {
     "data": {
      "text/html": [
       "<div>\n",
       "<table border=\"1\" class=\"dataframe\">\n",
       "  <thead>\n",
       "    <tr style=\"text-align: right;\">\n",
       "      <th></th>\n",
       "      <th>PassengerId</th>\n",
       "      <th>Survived</th>\n",
       "      <th>Pclass</th>\n",
       "      <th>Age</th>\n",
       "      <th>SibSp</th>\n",
       "      <th>Parch</th>\n",
       "      <th>Fare</th>\n",
       "    </tr>\n",
       "  </thead>\n",
       "  <tbody>\n",
       "    <tr>\n",
       "      <th>count</th>\n",
       "      <td>891.000000</td>\n",
       "      <td>891.000000</td>\n",
       "      <td>891.000000</td>\n",
       "      <td>714.000000</td>\n",
       "      <td>891.000000</td>\n",
       "      <td>891.000000</td>\n",
       "      <td>891.000000</td>\n",
       "    </tr>\n",
       "    <tr>\n",
       "      <th>mean</th>\n",
       "      <td>446.000000</td>\n",
       "      <td>0.383838</td>\n",
       "      <td>2.308642</td>\n",
       "      <td>29.699118</td>\n",
       "      <td>0.523008</td>\n",
       "      <td>0.381594</td>\n",
       "      <td>32.204208</td>\n",
       "    </tr>\n",
       "    <tr>\n",
       "      <th>std</th>\n",
       "      <td>257.353842</td>\n",
       "      <td>0.486592</td>\n",
       "      <td>0.836071</td>\n",
       "      <td>14.526497</td>\n",
       "      <td>1.102743</td>\n",
       "      <td>0.806057</td>\n",
       "      <td>49.693429</td>\n",
       "    </tr>\n",
       "    <tr>\n",
       "      <th>min</th>\n",
       "      <td>1.000000</td>\n",
       "      <td>0.000000</td>\n",
       "      <td>1.000000</td>\n",
       "      <td>0.420000</td>\n",
       "      <td>0.000000</td>\n",
       "      <td>0.000000</td>\n",
       "      <td>0.000000</td>\n",
       "    </tr>\n",
       "    <tr>\n",
       "      <th>25%</th>\n",
       "      <td>223.500000</td>\n",
       "      <td>0.000000</td>\n",
       "      <td>2.000000</td>\n",
       "      <td>NaN</td>\n",
       "      <td>0.000000</td>\n",
       "      <td>0.000000</td>\n",
       "      <td>7.910400</td>\n",
       "    </tr>\n",
       "    <tr>\n",
       "      <th>50%</th>\n",
       "      <td>446.000000</td>\n",
       "      <td>0.000000</td>\n",
       "      <td>3.000000</td>\n",
       "      <td>NaN</td>\n",
       "      <td>0.000000</td>\n",
       "      <td>0.000000</td>\n",
       "      <td>14.454200</td>\n",
       "    </tr>\n",
       "    <tr>\n",
       "      <th>75%</th>\n",
       "      <td>668.500000</td>\n",
       "      <td>1.000000</td>\n",
       "      <td>3.000000</td>\n",
       "      <td>NaN</td>\n",
       "      <td>1.000000</td>\n",
       "      <td>0.000000</td>\n",
       "      <td>31.000000</td>\n",
       "    </tr>\n",
       "    <tr>\n",
       "      <th>max</th>\n",
       "      <td>891.000000</td>\n",
       "      <td>1.000000</td>\n",
       "      <td>3.000000</td>\n",
       "      <td>80.000000</td>\n",
       "      <td>8.000000</td>\n",
       "      <td>6.000000</td>\n",
       "      <td>512.329200</td>\n",
       "    </tr>\n",
       "  </tbody>\n",
       "</table>\n",
       "</div>"
      ],
      "text/plain": [
       "       PassengerId    Survived      Pclass         Age       SibSp  \\\n",
       "count   891.000000  891.000000  891.000000  714.000000  891.000000   \n",
       "mean    446.000000    0.383838    2.308642   29.699118    0.523008   \n",
       "std     257.353842    0.486592    0.836071   14.526497    1.102743   \n",
       "min       1.000000    0.000000    1.000000    0.420000    0.000000   \n",
       "25%     223.500000    0.000000    2.000000         NaN    0.000000   \n",
       "50%     446.000000    0.000000    3.000000         NaN    0.000000   \n",
       "75%     668.500000    1.000000    3.000000         NaN    1.000000   \n",
       "max     891.000000    1.000000    3.000000   80.000000    8.000000   \n",
       "\n",
       "            Parch        Fare  \n",
       "count  891.000000  891.000000  \n",
       "mean     0.381594   32.204208  \n",
       "std      0.806057   49.693429  \n",
       "min      0.000000    0.000000  \n",
       "25%      0.000000    7.910400  \n",
       "50%      0.000000   14.454200  \n",
       "75%      0.000000   31.000000  \n",
       "max      6.000000  512.329200  "
      ]
     },
     "execution_count": 89,
     "metadata": {},
     "output_type": "execute_result"
    }
   ],
   "source": [
    "titanic_df.describe()"
   ]
  },
  {
   "cell_type": "markdown",
   "metadata": {
    "collapsed": true
   },
   "source": [
    "### Now we are going to check the data for any missing values by looking at each column"
   ]
  },
  {
   "cell_type": "code",
   "execution_count": 90,
   "metadata": {
    "collapsed": false
   },
   "outputs": [
    {
     "name": "stdout",
     "output_type": "stream",
     "text": [
      "Titanic_df rows 891\n"
     ]
    },
    {
     "data": {
      "text/plain": [
       "PassengerId    891\n",
       "Survived       891\n",
       "Pclass         891\n",
       "Name           891\n",
       "Sex            891\n",
       "Age            714\n",
       "SibSp          891\n",
       "Parch          891\n",
       "Ticket         891\n",
       "Fare           891\n",
       "Cabin          204\n",
       "Embarked       889\n",
       "dtype: int64"
      ]
     },
     "execution_count": 90,
     "metadata": {},
     "output_type": "execute_result"
    }
   ],
   "source": [
    "print \"Titanic_df rows\", len(titanic_df)\n",
    "\n",
    "titanic_df.notnull().sum()\n"
   ]
  },
  {
   "cell_type": "markdown",
   "metadata": {},
   "source": [
    "###### Exploring \"Cabin\" since it is missing most of it's information.\n"
   ]
  },
  {
   "cell_type": "code",
   "execution_count": 91,
   "metadata": {
    "collapsed": false
   },
   "outputs": [
    {
     "name": "stdout",
     "output_type": "stream",
     "text": [
      "Number of people per class\n",
      "Pclass\n",
      "1    216\n",
      "2    184\n",
      "3    491\n",
      "Name: PassengerId, dtype: int64 \n",
      "\n",
      "Number of Cabin information that is not missing per class \n",
      "\n",
      "Pclass\n",
      "1    176\n",
      "2     16\n",
      "3     12\n",
      "Name: Cabin, dtype: int64 \n",
      "\n",
      "All NaN in each  Pclass\n",
      "1     40\n",
      "2    168\n",
      "3    479\n",
      "dtype: int64\n"
     ]
    }
   ],
   "source": [
    "#Printed how many passengers per class\n",
    "print \"Number of people per class\"\n",
    "print titanic_df.groupby(\"Pclass\").count()[\"PassengerId\"], \"\\n\"\n",
    "\n",
    "# Printed how many people are being accounted for per class in Cabins. The majority of \n",
    "# people not accounted for, people with NaN in Cabin, are in the third class.\n",
    "print \"Number of Cabin information that is not missing per class \\n\"\n",
    "print titanic_df.groupby(\"Pclass\").count()[\"Cabin\"], \"\\n\"\n",
    "\n",
    "#All the NaN in each class for people without a cabin assigned.\n",
    "print \"All NaN in each \", titanic_df.groupby(\"Pclass\").count()[\"PassengerId\"] - titanic_df.groupby(\"Pclass\").count()[\"Cabin\"]\n"
   ]
  },
  {
   "cell_type": "markdown",
   "metadata": {},
   "source": [
    "# Men and Women on the Titanic"
   ]
  },
  {
   "cell_type": "markdown",
   "metadata": {},
   "source": [
    "### Men and Women on the Titanic"
   ]
  },
  {
   "cell_type": "code",
   "execution_count": 118,
   "metadata": {
    "collapsed": false
   },
   "outputs": [
    {
     "name": "stdout",
     "output_type": "stream",
     "text": [
      "Populating the interactive namespace from numpy and matplotlib\n"
     ]
    },
    {
     "data": {
      "image/png": "[encoded data removed]",
      "text/plain": [
       "<matplotlib.figure.Figure at 0x119268910>"
      ]
     },
     "metadata": {},
     "output_type": "display_data"
    },
    {
     "data": {
      "image/png": "[encoded data removed]",
      "text/plain": [
       "<matplotlib.figure.Figure at 0x119f31490>"
      ]
     },
     "metadata": {},
     "output_type": "display_data"
    }
   ],
   "source": [
    "%pylab inline \n",
    "on_titanic = titanic_df.groupby(\"Sex\")[\"Survived\"]\n",
    "gender = [1,2]\n",
    "x_ticks = [\"Female\", \"Male\"]\n",
    "\n",
    "plt.bar(gender, on_titanic.count(), align = \"center\")\n",
    "\n",
    "plt.xticks(gender, x_ticks)\n",
    "plt.xlabel(\"Females vs Males\")\n",
    "plt.ylabel(\"On Titanic\")\n",
    "plt.title(\"Females vs Men on Titanic\")\n",
    "plt.show()\n",
    "labels = ['Female', 'Male']\n",
    "\n",
    "\n",
    "sizes = on_titanic.count()\n",
    "\n",
    "colors = ['skyblue', 'lightcoral']\n",
    "explode = (0, 0.05)  # only \"explode\" the 2nd slice (i.e. 'Hogs')\n",
    "\n",
    "plt.pie(sizes, explode=explode, labels=labels, colors=colors, autopct='%1.1f%%', shadow=True, startangle=45)\n",
    "plt.title(\"Female vs Male Passengers on the Titanic\")\n",
    "plt.show()\n"
   ]
  },
  {
   "cell_type": "markdown",
   "metadata": {},
   "source": [
    "\n",
    "\n",
    "### Men and Women who Survived Titanic\n"
   ]
  },
  {
   "cell_type": "code",
   "execution_count": 119,
   "metadata": {
    "collapsed": false
   },
   "outputs": [
    {
     "data": {
      "image/png": "[encoded data removed]",
      "text/plain": [
       "<matplotlib.figure.Figure at 0x11ab75550>"
      ]
     },
     "metadata": {},
     "output_type": "display_data"
    },
    {
     "data": {
      "image/png": "[encoded data removed]",
      "text/plain": [
       "<matplotlib.figure.Figure at 0x119b63290>"
      ]
     },
     "metadata": {},
     "output_type": "display_data"
    }
   ],
   "source": [
    "Gender = [1,2]\n",
    "x_ticks = [\"Female\", \"Male\"]\n",
    "\n",
    "plt.bar(Gender, on_titanic.sum(), align='center')\n",
    "\n",
    "plt.xticks(Gender, x_ticks)\n",
    "plt.xlabel(\"Females vs Males\")\n",
    "plt.ylabel(\"Survived Count\")\n",
    "plt.title(\"Females vs Men that Survived\")\n",
    "plt.show()\n",
    "\n",
    "sizes = on_titanic.sum()\n",
    "\n",
    "colors = ['skyblue', 'lightcoral']\n",
    "explode = (0, 0.05)  # only \"explode\" the 2nd slice (i.e. 'Hogs')\n",
    "\n",
    "plt.pie(sizes, explode=explode, labels=labels, colors=colors, autopct='%1.1f%%', shadow=True, startangle=45)\n",
    "plt.title(\"Female vs Male Passengers that Survived the Titanic\")\n",
    "plt.show()\n",
    "\n",
    "\n"
   ]
  },
  {
   "cell_type": "markdown",
   "metadata": {},
   "source": [
    "### Conclusion "
   ]
  },
  {
   "cell_type": "markdown",
   "metadata": {},
   "source": [
    "Although there were about twice as many men than women on the Titanic, proportionally, women survived as much as 3 times more often. There is a relationship between sex of passenger and survivor of the titanic.\n"
   ]
  },
  {
   "cell_type": "markdown",
   "metadata": {},
   "source": [
    "# Analsysis of the Ages of the Survivors"
   ]
  },
  {
   "cell_type": "markdown",
   "metadata": {},
   "source": [
    "#### I'm going to conduct an analysis that compares different age groups of passengers that survived or perish in order to investigate whether age played a role in survival.\n"
   ]
  },
  {
   "cell_type": "markdown",
   "metadata": {},
   "source": [
    "First, we are going to create a new dataFrame so that we can keep our original dataFram titanic_df the same. We are going to drop all the rows that have na in the age column. "
   ]
  },
  {
   "cell_type": "code",
   "execution_count": 94,
   "metadata": {
    "collapsed": false
   },
   "outputs": [],
   "source": [
    "titanic_age_drop =titanic_df\n"
   ]
  },
  {
   "cell_type": "markdown",
   "metadata": {},
   "source": [
    "Going to remove all the row where there is an NA, so that I can perform the analysis on age. Going to only have 712 data points because I will be removing 177 rows because of NA age and 2 rows for NA Embarkment data"
   ]
  },
  {
   "cell_type": "code",
   "execution_count": 95,
   "metadata": {
    "collapsed": false
   },
   "outputs": [],
   "source": [
    "titanic_age_drop.dropna(subset = [\"Age\"], inplace = \"True\") #Remove all data points with no age\n"
   ]
  },
  {
   "cell_type": "markdown",
   "metadata": {},
   "source": [
    "Now we are going to create 2 histograms. The first will show the Age Frequency of Survivors, and the second will demonstrate the Age Frequency of people that did not survive. This will help us visualize whether there is anything interesting before we dive deep into analysis."
   ]
  },
  {
   "cell_type": "code",
   "execution_count": 96,
   "metadata": {
    "collapsed": false
   },
   "outputs": [
    {
     "data": {
      "image/png": "[encoded data removed]",
      "text/plain": [
       "<matplotlib.figure.Figure at 0x1188c52d0>"
      ]
     },
     "metadata": {},
     "output_type": "display_data"
    },
    {
     "data": {
      "image/png": "[encoded data removed]",
      "text/plain": [
       "<matplotlib.figure.Figure at 0x118a15f50>"
      ]
     },
     "metadata": {},
     "output_type": "display_data"
    }
   ],
   "source": [
    "titanic_survived = titanic_age_drop[titanic_age_drop[\"Survived\"]==1] #Number of Titanic survivors\n",
    "titanic_died = titanic_age_drop[titanic_age_drop[\"Survived\"]==0]     #Number of passengers that died on the Titanic\n",
    "plt.hist(titanic_survived[\"Age\"], bins = 15)\n",
    "plt.title(\"Age Frequency of Survivors\")\n",
    "plt.xlabel(\"Age\")\n",
    "plt.ylabel(\"Survivor Frequency\")\n",
    "plt.show()\n",
    "\n",
    "plt.hist(titanic_died[\"Age\"], bins = 15)\n",
    "plt.title(\"Age Frequency of Non-Survivors\")\n",
    "plt.xlabel(\"Age\")\n",
    "plt.ylabel(\"Non-Survivor Frequency\")\n",
    "plt.show()\n"
   ]
  },
  {
   "cell_type": "markdown",
   "metadata": {},
   "source": [
    "In order to fully test whether certain age intervals were more likely to survive others, I am going to add another column to the Data Frame called Age_bin, which is going to categorize everyone into age bins in intervals of 10 years."
   ]
  },
  {
   "cell_type": "code",
   "execution_count": 97,
   "metadata": {
    "collapsed": false
   },
   "outputs": [
    {
     "data": {
      "text/html": [
       "<div>\n",
       "<table border=\"1\" class=\"dataframe\">\n",
       "  <thead>\n",
       "    <tr style=\"text-align: right;\">\n",
       "      <th></th>\n",
       "      <th>PassengerId</th>\n",
       "      <th>Survived</th>\n",
       "      <th>Pclass</th>\n",
       "      <th>Name</th>\n",
       "      <th>Sex</th>\n",
       "      <th>Age</th>\n",
       "      <th>SibSp</th>\n",
       "      <th>Parch</th>\n",
       "      <th>Ticket</th>\n",
       "      <th>Fare</th>\n",
       "      <th>Cabin</th>\n",
       "      <th>Embarked</th>\n",
       "      <th>Age_Bin</th>\n",
       "    </tr>\n",
       "  </thead>\n",
       "  <tbody>\n",
       "    <tr>\n",
       "      <th>0</th>\n",
       "      <td>1</td>\n",
       "      <td>0</td>\n",
       "      <td>3</td>\n",
       "      <td>Braund, Mr. Owen Harris</td>\n",
       "      <td>male</td>\n",
       "      <td>22.0</td>\n",
       "      <td>1</td>\n",
       "      <td>0</td>\n",
       "      <td>A/5 21171</td>\n",
       "      <td>7.2500</td>\n",
       "      <td>NaN</td>\n",
       "      <td>S</td>\n",
       "      <td>20-29</td>\n",
       "    </tr>\n",
       "    <tr>\n",
       "      <th>1</th>\n",
       "      <td>2</td>\n",
       "      <td>1</td>\n",
       "      <td>1</td>\n",
       "      <td>Cumings, Mrs. John Bradley (Florence Briggs Th...</td>\n",
       "      <td>female</td>\n",
       "      <td>38.0</td>\n",
       "      <td>1</td>\n",
       "      <td>0</td>\n",
       "      <td>PC 17599</td>\n",
       "      <td>71.2833</td>\n",
       "      <td>C85</td>\n",
       "      <td>C</td>\n",
       "      <td>30-39</td>\n",
       "    </tr>\n",
       "    <tr>\n",
       "      <th>2</th>\n",
       "      <td>3</td>\n",
       "      <td>1</td>\n",
       "      <td>3</td>\n",
       "      <td>Heikkinen, Miss. Laina</td>\n",
       "      <td>female</td>\n",
       "      <td>26.0</td>\n",
       "      <td>0</td>\n",
       "      <td>0</td>\n",
       "      <td>STON/O2. 3101282</td>\n",
       "      <td>7.9250</td>\n",
       "      <td>NaN</td>\n",
       "      <td>S</td>\n",
       "      <td>20-29</td>\n",
       "    </tr>\n",
       "    <tr>\n",
       "      <th>3</th>\n",
       "      <td>4</td>\n",
       "      <td>1</td>\n",
       "      <td>1</td>\n",
       "      <td>Futrelle, Mrs. Jacques Heath (Lily May Peel)</td>\n",
       "      <td>female</td>\n",
       "      <td>35.0</td>\n",
       "      <td>1</td>\n",
       "      <td>0</td>\n",
       "      <td>113803</td>\n",
       "      <td>53.1000</td>\n",
       "      <td>C123</td>\n",
       "      <td>S</td>\n",
       "      <td>30-39</td>\n",
       "    </tr>\n",
       "    <tr>\n",
       "      <th>4</th>\n",
       "      <td>5</td>\n",
       "      <td>0</td>\n",
       "      <td>3</td>\n",
       "      <td>Allen, Mr. William Henry</td>\n",
       "      <td>male</td>\n",
       "      <td>35.0</td>\n",
       "      <td>0</td>\n",
       "      <td>0</td>\n",
       "      <td>373450</td>\n",
       "      <td>8.0500</td>\n",
       "      <td>NaN</td>\n",
       "      <td>S</td>\n",
       "      <td>30-39</td>\n",
       "    </tr>\n",
       "  </tbody>\n",
       "</table>\n",
       "</div>"
      ],
      "text/plain": [
       "   PassengerId  Survived  Pclass  \\\n",
       "0            1         0       3   \n",
       "1            2         1       1   \n",
       "2            3         1       3   \n",
       "3            4         1       1   \n",
       "4            5         0       3   \n",
       "\n",
       "                                                Name     Sex   Age  SibSp  \\\n",
       "0                            Braund, Mr. Owen Harris    male  22.0      1   \n",
       "1  Cumings, Mrs. John Bradley (Florence Briggs Th...  female  38.0      1   \n",
       "2                             Heikkinen, Miss. Laina  female  26.0      0   \n",
       "3       Futrelle, Mrs. Jacques Heath (Lily May Peel)  female  35.0      1   \n",
       "4                           Allen, Mr. William Henry    male  35.0      0   \n",
       "\n",
       "   Parch            Ticket     Fare Cabin Embarked Age_Bin  \n",
       "0      0         A/5 21171   7.2500   NaN        S   20-29  \n",
       "1      0          PC 17599  71.2833   C85        C   30-39  \n",
       "2      0  STON/O2. 3101282   7.9250   NaN        S   20-29  \n",
       "3      0            113803  53.1000  C123        S   30-39  \n",
       "4      0            373450   8.0500   NaN        S   30-39  "
      ]
     },
     "execution_count": 97,
     "metadata": {},
     "output_type": "execute_result"
    }
   ],
   "source": [
    "titanic_age_assign = titanic_age_drop\n",
    "def age_assign(age):\n",
    "    if(age>=80):\n",
    "        return \"80+\"\n",
    "    elif(age>70):\n",
    "        return \"70-79\"\n",
    "    elif(age>60):\n",
    "        return \"60-69\"\n",
    "    elif(age>50):\n",
    "        return \"50-59\"\n",
    "    elif(age>40):\n",
    "        return \"40-49\"\n",
    "    elif(age>30):\n",
    "        return \"30-39\"\n",
    "    elif(age>20):\n",
    "        return \"20-29\"\n",
    "    elif(age>10):\n",
    "        return \"10-19\"\n",
    "    else:\n",
    "        return \"0-9\"\n",
    "    \n",
    "#Assigning an age interval to each data row.\n",
    "titanic_age_assign[\"Age_Bin\"] = titanic_age_assign[\"Age\"].apply(age_assign)\n",
    "titanic_age_assign.head()"
   ]
  },
  {
   "cell_type": "code",
   "execution_count": 98,
   "metadata": {
    "collapsed": false
   },
   "outputs": [
    {
     "name": "stdout",
     "output_type": "stream",
     "text": [
      "Proportion of survival for each age-interval\n"
     ]
    },
    {
     "data": {
      "text/html": [
       "<div>\n",
       "<table border=\"1\" class=\"dataframe\">\n",
       "  <thead>\n",
       "    <tr style=\"text-align: right;\">\n",
       "      <th></th>\n",
       "      <th>Proportion_of_Survival</th>\n",
       "    </tr>\n",
       "  </thead>\n",
       "  <tbody>\n",
       "    <tr>\n",
       "      <th>0-9</th>\n",
       "      <td>0.593750</td>\n",
       "    </tr>\n",
       "    <tr>\n",
       "      <th>10-19</th>\n",
       "      <td>0.382609</td>\n",
       "    </tr>\n",
       "    <tr>\n",
       "      <th>20-29</th>\n",
       "      <td>0.365217</td>\n",
       "    </tr>\n",
       "    <tr>\n",
       "      <th>30-39</th>\n",
       "      <td>0.445161</td>\n",
       "    </tr>\n",
       "    <tr>\n",
       "      <th>40-49</th>\n",
       "      <td>0.383721</td>\n",
       "    </tr>\n",
       "    <tr>\n",
       "      <th>49-59</th>\n",
       "      <td>0.404762</td>\n",
       "    </tr>\n",
       "    <tr>\n",
       "      <th>60-69</th>\n",
       "      <td>0.235294</td>\n",
       "    </tr>\n",
       "    <tr>\n",
       "      <th>70-79</th>\n",
       "      <td>0.000000</td>\n",
       "    </tr>\n",
       "    <tr>\n",
       "      <th>80+</th>\n",
       "      <td>1.000000</td>\n",
       "    </tr>\n",
       "  </tbody>\n",
       "</table>\n",
       "</div>"
      ],
      "text/plain": [
       "       Proportion_of_Survival\n",
       "0-9                  0.593750\n",
       "10-19                0.382609\n",
       "20-29                0.365217\n",
       "30-39                0.445161\n",
       "40-49                0.383721\n",
       "49-59                0.404762\n",
       "60-69                0.235294\n",
       "70-79                0.000000\n",
       "80+                  1.000000"
      ]
     },
     "execution_count": 98,
     "metadata": {},
     "output_type": "execute_result"
    }
   ],
   "source": [
    "#Get the proportion of survivors for each age interval\n",
    "by_age_bins_mean = titanic_age_assign.groupby(\"Age_Bin\")[\"Survived\"].mean()\n",
    "\n",
    "print \"Proportion of survival for each age-interval\"\n",
    "pd.DataFrame(by_age_bins_mean.values, index =[\"0-9\", \"10-19\", \"20-29\", \"30-39\", \"40-49\", \"49-59\", \"60-69\", \"70-79\", \"80+\"], columns = [\"Proportion_of_Survival\"])\n"
   ]
  },
  {
   "cell_type": "markdown",
   "metadata": {},
   "source": [
    "### Conclusion"
   ]
  },
  {
   "cell_type": "markdown",
   "metadata": {},
   "source": [
    "Age seems to be an indicator of survival on the titanic. Children had higher proportions of survival than any other age interval. Surprisingly, ages 30-39 was the second highest age indicator of survival and the outlier is the 80+ year old who survived. Therefore, there seems to be a relationship between age intervals and survival of the titanic.\n"
   ]
  },
  {
   "cell_type": "markdown",
   "metadata": {},
   "source": [
    "# Analysis of Age and Sex of Survivors"
   ]
  },
  {
   "cell_type": "markdown",
   "metadata": {},
   "source": [
    "We are going to analyze whether there is a relationship between age and sex of survivors. "
   ]
  },
  {
   "cell_type": "markdown",
   "metadata": {},
   "source": [
    "### Graphing Survivors of the Titanic vs Female Survivors vs Male Survivors"
   ]
  },
  {
   "cell_type": "code",
   "execution_count": 99,
   "metadata": {
    "collapsed": false
   },
   "outputs": [
    {
     "data": {
      "text/html": [
       "<div>\n",
       "<table border=\"1\" class=\"dataframe\">\n",
       "  <thead>\n",
       "    <tr style=\"text-align: right;\">\n",
       "      <th></th>\n",
       "      <th>Age_Bin</th>\n",
       "      <th>Sex</th>\n",
       "      <th>Survived</th>\n",
       "    </tr>\n",
       "  </thead>\n",
       "  <tbody>\n",
       "    <tr>\n",
       "      <th>0</th>\n",
       "      <td>0-9</td>\n",
       "      <td>female</td>\n",
       "      <td>19</td>\n",
       "    </tr>\n",
       "    <tr>\n",
       "      <th>1</th>\n",
       "      <td>0-9</td>\n",
       "      <td>male</td>\n",
       "      <td>19</td>\n",
       "    </tr>\n",
       "    <tr>\n",
       "      <th>2</th>\n",
       "      <td>10-19</td>\n",
       "      <td>female</td>\n",
       "      <td>34</td>\n",
       "    </tr>\n",
       "    <tr>\n",
       "      <th>3</th>\n",
       "      <td>10-19</td>\n",
       "      <td>male</td>\n",
       "      <td>10</td>\n",
       "    </tr>\n",
       "    <tr>\n",
       "      <th>4</th>\n",
       "      <td>20-29</td>\n",
       "      <td>female</td>\n",
       "      <td>61</td>\n",
       "    </tr>\n",
       "    <tr>\n",
       "      <th>5</th>\n",
       "      <td>20-29</td>\n",
       "      <td>male</td>\n",
       "      <td>23</td>\n",
       "    </tr>\n",
       "    <tr>\n",
       "      <th>6</th>\n",
       "      <td>30-39</td>\n",
       "      <td>female</td>\n",
       "      <td>46</td>\n",
       "    </tr>\n",
       "    <tr>\n",
       "      <th>7</th>\n",
       "      <td>30-39</td>\n",
       "      <td>male</td>\n",
       "      <td>23</td>\n",
       "    </tr>\n",
       "    <tr>\n",
       "      <th>8</th>\n",
       "      <td>40-49</td>\n",
       "      <td>female</td>\n",
       "      <td>21</td>\n",
       "    </tr>\n",
       "    <tr>\n",
       "      <th>9</th>\n",
       "      <td>40-49</td>\n",
       "      <td>male</td>\n",
       "      <td>12</td>\n",
       "    </tr>\n",
       "    <tr>\n",
       "      <th>10</th>\n",
       "      <td>50-59</td>\n",
       "      <td>female</td>\n",
       "      <td>13</td>\n",
       "    </tr>\n",
       "    <tr>\n",
       "      <th>11</th>\n",
       "      <td>50-59</td>\n",
       "      <td>male</td>\n",
       "      <td>4</td>\n",
       "    </tr>\n",
       "    <tr>\n",
       "      <th>12</th>\n",
       "      <td>60-69</td>\n",
       "      <td>female</td>\n",
       "      <td>3</td>\n",
       "    </tr>\n",
       "    <tr>\n",
       "      <th>13</th>\n",
       "      <td>60-69</td>\n",
       "      <td>male</td>\n",
       "      <td>1</td>\n",
       "    </tr>\n",
       "    <tr>\n",
       "      <th>14</th>\n",
       "      <td>70-79</td>\n",
       "      <td>male</td>\n",
       "      <td>0</td>\n",
       "    </tr>\n",
       "    <tr>\n",
       "      <th>15</th>\n",
       "      <td>80+</td>\n",
       "      <td>male</td>\n",
       "      <td>1</td>\n",
       "    </tr>\n",
       "  </tbody>\n",
       "</table>\n",
       "</div>"
      ],
      "text/plain": [
       "   Age_Bin     Sex  Survived\n",
       "0      0-9  female        19\n",
       "1      0-9    male        19\n",
       "2    10-19  female        34\n",
       "3    10-19    male        10\n",
       "4    20-29  female        61\n",
       "5    20-29    male        23\n",
       "6    30-39  female        46\n",
       "7    30-39    male        23\n",
       "8    40-49  female        21\n",
       "9    40-49    male        12\n",
       "10   50-59  female        13\n",
       "11   50-59    male         4\n",
       "12   60-69  female         3\n",
       "13   60-69    male         1\n",
       "14   70-79    male         0\n",
       "15     80+    male         1"
      ]
     },
     "execution_count": 99,
     "metadata": {},
     "output_type": "execute_result"
    }
   ],
   "source": [
    "#Get the survival proportion for each gender in each age interval\n",
    "survival_by_age_bins_gender= titanic_age_assign.groupby([\"Age_Bin\", \"Sex\"], as_index = False)[\"Survived\"]\n",
    "survival_by_age_bins_gender.sum()\n"
   ]
  },
  {
   "cell_type": "markdown",
   "metadata": {},
   "source": [
    "We are going to group the data by Age_Bin and take the sum of survivors for each age bin. \n",
    "Afterwards, we are going to group the data again, but this time by Age_bin and Sex. We are there going to sum up the number of survivors per age interval for both male and female."
   ]
  },
  {
   "cell_type": "code",
   "execution_count": 100,
   "metadata": {
    "collapsed": false
   },
   "outputs": [
    {
     "name": "stdout",
     "output_type": "stream",
     "text": [
      "[19 34 61 46 21 13  3  0  0]\n",
      "[19 10 23 23 12  4  1  0  1]\n",
      "[38 44 84 69 33 17  4  0  1]\n"
     ]
    }
   ],
   "source": [
    "#Get Number of survivors on the titanic for each age interval\n",
    "survivor = titanic_age_assign.groupby(\"Age_Bin\")[\"Survived\"].sum().values\n",
    "survivor_sex = survival_by_age_bins_gender.sum()\n",
    "\n",
    "#Get number of female and male survivors for each age bin in order to plot them\n",
    "survivor_fe = survivor_sex[survivor_sex[\"Sex\"]==\"female\"][\"Survived\"].values\n",
    "survivor_male = survivor_sex[survivor_sex[\"Sex\"]==\"male\"][\"Survived\"].values\n",
    "survivor_female = np.append(survivor_fe, [0,0]) #Appended two zeroes to survival_female so that we can graph it male_survivor \n",
    "print survivor_female\n",
    "print survivor_male\n",
    "print survivor"
   ]
  },
  {
   "cell_type": "code",
   "execution_count": 101,
   "metadata": {
    "collapsed": false
   },
   "outputs": [
    {
     "data": {
      "image/png": "[encoded data removed]",
      "text/plain": [
       "<matplotlib.figure.Figure at 0x119b95610>"
      ]
     },
     "metadata": {},
     "output_type": "display_data"
    }
   ],
   "source": [
    "\n",
    "\n",
    "#Got an example of this code from http://matplotlib.org/examples/api/barchart_demo.html\n",
    "#Adapted it to what I needed to plot my data\n",
    "\n",
    "N = 9\n",
    "\n",
    "ind = np.arange(N)  # the x locations for the groups\n",
    "width = 0.25       # the width of the bars\n",
    "\n",
    "fig, ax = plt.subplots()\n",
    "\n",
    "rects1 = ax.bar(ind, survivor, width, color='g')\n",
    "\n",
    "rects2 = ax.bar(ind + width, survivor_female, width, color='r')\n",
    "\n",
    "rects3 = ax.bar(ind+ 2*width, survivor_male, width, color = \"b\")\n",
    "\n",
    "# add some text for labels, title and axes ticks\n",
    "ax.set_ylabel('Titanic Survivors')\n",
    "ax.set_xlabel('Total Survivors, Women Survivors and Men Survivors per Age Interval')\n",
    "ax.set_title('Survivors of the Titanic per Age Group')\n",
    "ax.set_xticks(ind + width)\n",
    "ax.set_xticklabels(('0-9', '10-19', '20-29', '30-39', '40-49', '50-59', '60-69', \"70-79\", \"80+\"))\n",
    "\n",
    "ax.legend((rects1[0], rects2[0], rects3[0]), ('Survivor', 'Women', \"Male\"))\n",
    "\n",
    "\n",
    "def autolabel(rects):\n",
    "    # attach some text labels\n",
    "    for rect in rects:\n",
    "        height = rect.get_height()\n",
    "        ax.text(rect.get_x() + rect.get_width()/2., 1.0*height,\n",
    "                '%d' % int(height),\n",
    "                ha='center', va='bottom')\n",
    "\n",
    "autolabel(rects1)\n",
    "autolabel(rects2)\n",
    "autolabel(rects3)\n",
    "\n",
    "plt.show()\n"
   ]
  },
  {
   "cell_type": "markdown",
   "metadata": {},
   "source": [
    "From the visualization we can see the raw survivor numbers for women, men and the total survivors. In every age group, there are higher numbers for women survivors than men, except for children of ages 0-9. But, what is also important is whether the proportion of survivors relative to their respective populations are different for each age interval. For example, what proportion of women survived from the population of women in a certain age interval in comparison to men. "
   ]
  },
  {
   "cell_type": "code",
   "execution_count": 102,
   "metadata": {
    "collapsed": false
   },
   "outputs": [
    {
     "name": "stdout",
     "output_type": "stream",
     "text": [
      "Proportion of survival for each age interval by sex\n"
     ]
    },
    {
     "data": {
      "text/html": [
       "<div>\n",
       "<table border=\"1\" class=\"dataframe\">\n",
       "  <thead>\n",
       "    <tr style=\"text-align: right;\">\n",
       "      <th></th>\n",
       "      <th>Age_Bin</th>\n",
       "      <th>Sex</th>\n",
       "      <th>Survived</th>\n",
       "    </tr>\n",
       "  </thead>\n",
       "  <tbody>\n",
       "    <tr>\n",
       "      <th>0</th>\n",
       "      <td>0-9</td>\n",
       "      <td>female</td>\n",
       "      <td>0.612903</td>\n",
       "    </tr>\n",
       "    <tr>\n",
       "      <th>1</th>\n",
       "      <td>0-9</td>\n",
       "      <td>male</td>\n",
       "      <td>0.575758</td>\n",
       "    </tr>\n",
       "    <tr>\n",
       "      <th>2</th>\n",
       "      <td>10-19</td>\n",
       "      <td>female</td>\n",
       "      <td>0.739130</td>\n",
       "    </tr>\n",
       "    <tr>\n",
       "      <th>3</th>\n",
       "      <td>10-19</td>\n",
       "      <td>male</td>\n",
       "      <td>0.144928</td>\n",
       "    </tr>\n",
       "    <tr>\n",
       "      <th>4</th>\n",
       "      <td>20-29</td>\n",
       "      <td>female</td>\n",
       "      <td>0.753086</td>\n",
       "    </tr>\n",
       "    <tr>\n",
       "      <th>5</th>\n",
       "      <td>20-29</td>\n",
       "      <td>male</td>\n",
       "      <td>0.154362</td>\n",
       "    </tr>\n",
       "    <tr>\n",
       "      <th>6</th>\n",
       "      <td>30-39</td>\n",
       "      <td>female</td>\n",
       "      <td>0.836364</td>\n",
       "    </tr>\n",
       "    <tr>\n",
       "      <th>7</th>\n",
       "      <td>30-39</td>\n",
       "      <td>male</td>\n",
       "      <td>0.230000</td>\n",
       "    </tr>\n",
       "    <tr>\n",
       "      <th>8</th>\n",
       "      <td>40-49</td>\n",
       "      <td>female</td>\n",
       "      <td>0.677419</td>\n",
       "    </tr>\n",
       "    <tr>\n",
       "      <th>9</th>\n",
       "      <td>40-49</td>\n",
       "      <td>male</td>\n",
       "      <td>0.218182</td>\n",
       "    </tr>\n",
       "    <tr>\n",
       "      <th>10</th>\n",
       "      <td>50-59</td>\n",
       "      <td>female</td>\n",
       "      <td>0.928571</td>\n",
       "    </tr>\n",
       "    <tr>\n",
       "      <th>11</th>\n",
       "      <td>50-59</td>\n",
       "      <td>male</td>\n",
       "      <td>0.142857</td>\n",
       "    </tr>\n",
       "    <tr>\n",
       "      <th>12</th>\n",
       "      <td>60-69</td>\n",
       "      <td>female</td>\n",
       "      <td>1.000000</td>\n",
       "    </tr>\n",
       "    <tr>\n",
       "      <th>13</th>\n",
       "      <td>60-69</td>\n",
       "      <td>male</td>\n",
       "      <td>0.071429</td>\n",
       "    </tr>\n",
       "    <tr>\n",
       "      <th>14</th>\n",
       "      <td>70-79</td>\n",
       "      <td>male</td>\n",
       "      <td>0.000000</td>\n",
       "    </tr>\n",
       "    <tr>\n",
       "      <th>15</th>\n",
       "      <td>80+</td>\n",
       "      <td>male</td>\n",
       "      <td>1.000000</td>\n",
       "    </tr>\n",
       "  </tbody>\n",
       "</table>\n",
       "</div>"
      ],
      "text/plain": [
       "   Age_Bin     Sex  Survived\n",
       "0      0-9  female  0.612903\n",
       "1      0-9    male  0.575758\n",
       "2    10-19  female  0.739130\n",
       "3    10-19    male  0.144928\n",
       "4    20-29  female  0.753086\n",
       "5    20-29    male  0.154362\n",
       "6    30-39  female  0.836364\n",
       "7    30-39    male  0.230000\n",
       "8    40-49  female  0.677419\n",
       "9    40-49    male  0.218182\n",
       "10   50-59  female  0.928571\n",
       "11   50-59    male  0.142857\n",
       "12   60-69  female  1.000000\n",
       "13   60-69    male  0.071429\n",
       "14   70-79    male  0.000000\n",
       "15     80+    male  1.000000"
      ]
     },
     "execution_count": 102,
     "metadata": {},
     "output_type": "execute_result"
    }
   ],
   "source": [
    "print \"Proportion of survival for each age interval by sex\"\n",
    "survival_by_age_bins_gender.mean()"
   ]
  },
  {
   "cell_type": "markdown",
   "metadata": {},
   "source": [
    "In order to test whether the proportion of survivors in both the women and men populations for each interval have a true difference and are not just caused by a sampling error, we are going to perform statistical testing."
   ]
  },
  {
   "cell_type": "markdown",
   "metadata": {},
   "source": [
    "First, I am going to cut the last two rows from the DataFrame because no one survived between the ages 70-79 and for the age bin of 80+ there is only one male survived."
   ]
  },
  {
   "cell_type": "code",
   "execution_count": 103,
   "metadata": {
    "collapsed": false
   },
   "outputs": [],
   "source": [
    "#Drop the last two rows, we do not need them.\n",
    "#Made two. One of them is for means, the other for count of the DataFrame that removes the last two rows.\n",
    "survival_by_age_bins_gender_final = survival_by_age_bins_gender.mean().drop(survival_by_age_bins_gender.mean().tail(2).index)\n",
    "survival_by_age_bins_gender_final_count = survival_by_age_bins_gender.count().drop(survival_by_age_bins_gender.count().tail(2).index)\n"
   ]
  },
  {
   "cell_type": "markdown",
   "metadata": {},
   "source": [
    "### Testing for statistical significance"
   ]
  },
  {
   "cell_type": "markdown",
   "metadata": {},
   "source": [
    "###### Two-Tailed Independent Z-Test"
   ]
  },
  {
   "cell_type": "markdown",
   "metadata": {},
   "source": [
    "We are going to perform a two-tailed independent proportion Z-test to compare both male and female survival proportions within each age interval at an $\\alpha$ level of .05.\n",
    "The independent variable is gender, which is either male or female, and the dependent variable is whether they survived or died on the titanic.\n",
    "\n",
    "I am performing a Z-Test because I am comparing proportions of survival for the independent variable. The independent variables has two categories that are unrelatable and both the independent and dependent variable are categorical. For each dependent variable outcome we have at least 5 survival and 5 death outcomes, except for bin age 60-69.\n",
    "\n",
    "\n",
    "Admittingly, what is missing is that the real population is not at least 20 times greater than my samples sizes.\n",
    "\n",
    "\n",
    "\n"
   ]
  },
  {
   "cell_type": "markdown",
   "metadata": {},
   "source": [
    "###### Hypothesis"
   ]
  },
  {
   "cell_type": "markdown",
   "metadata": {},
   "source": [
    "Null Hypothesis: The difference between the female and male population proportions of survival at each respective age interval is not statistically significant or, in other words, the difference is zero. That is $p_{female} = p_{male}$ or $ p_{female} - p_{male} = 0$.\n",
    "\n",
    "Alternative Hypthothesis: The difference between the female and male population proportions of survival is statistically significant or, in other words, it is not zero. That is, $p_{female} \\neq p_{male}$ or $ p_{female} - p_{male} \\neq 0$"
   ]
  },
  {
   "cell_type": "markdown",
   "metadata": {},
   "source": [
    "We are going to find the sample size for each age interval. First, we are going to delete the last two rows, because in those two rows, only men have survived. "
   ]
  },
  {
   "cell_type": "code",
   "execution_count": 104,
   "metadata": {
    "collapsed": false
   },
   "outputs": [],
   "source": [
    "#We are going to drop the last two rows of the dataFrame because either no one survived in that age bin or\n",
    "#It only has male survivors\n",
    "#Count the N, the number of women and men in each age interval. \n",
    "survival_by_age_bins_size= survival_by_age_bins_gender_final_count\n",
    "survival_by_age_bins_size_female = survival_by_age_bins_size[survival_by_age_bins_size[\"Sex\"]==\"female\"][\"Survived\"]\n",
    "survival_by_age_bins_size_male = survival_by_age_bins_size[survival_by_age_bins_size[\"Sex\"]==\"male\"][\"Survived\"]\n"
   ]
  },
  {
   "cell_type": "markdown",
   "metadata": {},
   "source": [
    "We are going to take the means, or proportions, for each gender in each age interval."
   ]
  },
  {
   "cell_type": "code",
   "execution_count": 105,
   "metadata": {
    "collapsed": false
   },
   "outputs": [],
   "source": [
    "#Get the proportions of survival for male and female in each age interval\n",
    "survival_by_age_bins_male_mean = survival_by_age_bins_gender_final[survival_by_age_bins_gender_final[\"Sex\"]==\"male\"][\"Survived\"]\n",
    "survival_by_age_bins_female_mean = survival_by_age_bins_gender_final[survival_by_age_bins_gender_final[\"Sex\"]==\"female\"][\"Survived\"]\n",
    " \n"
   ]
  },
  {
   "cell_type": "markdown",
   "metadata": {},
   "source": [
    "Pooled proportions  $\\widehat{p}$ is pp"
   ]
  },
  {
   "cell_type": "code",
   "execution_count": 106,
   "metadata": {
    "collapsed": false
   },
   "outputs": [],
   "source": [
    "#Calculate pooled proportion for each age interval\n",
    "male = survival_by_age_bins_male_mean*survival_by_age_bins_size_male\n",
    "female = survival_by_age_bins_female_mean*survival_by_age_bins_size_female\n",
    "numerator = pd.Series(male.values + female.values, index = male.index)\n",
    "denomenator = pd.Series(survival_by_age_bins_size_female.values + survival_by_age_bins_size_male.values, index = survival_by_age_bins_size_male.index)\n",
    "pp = numerator/denomenator\n",
    "\n"
   ]
  },
  {
   "cell_type": "markdown",
   "metadata": {},
   "source": [
    "Standard Errors"
   ]
  },
  {
   "cell_type": "code",
   "execution_count": 107,
   "metadata": {
    "collapsed": true
   },
   "outputs": [],
   "source": [
    "#Calculate standard error for each age interval\n",
    "bottoms = pd.Series(1.0/survival_by_age_bins_size_female.values + 1.0/survival_by_age_bins_size_male.values, index = survival_by_age_bins_size_male.index)\n",
    "SE = ((pp*(1-pp))*bottoms)**.5\n"
   ]
  },
  {
   "cell_type": "markdown",
   "metadata": {},
   "source": [
    "Z_Scores"
   ]
  },
  {
   "cell_type": "code",
   "execution_count": 108,
   "metadata": {
    "collapsed": true
   },
   "outputs": [],
   "source": [
    "#Calculate the Z score for each age interval.\n",
    "mean_diff = pd.Series(survival_by_age_bins_male_mean.values -survival_by_age_bins_female_mean.values, index = survival_by_age_bins_male_mean.index)\n",
    "t_score = mean_diff/SE"
   ]
  },
  {
   "cell_type": "code",
   "execution_count": 109,
   "metadata": {
    "collapsed": false
   },
   "outputs": [
    {
     "data": {
      "text/html": [
       "<div>\n",
       "<table border=\"1\" class=\"dataframe\">\n",
       "  <thead>\n",
       "    <tr style=\"text-align: right;\">\n",
       "      <th></th>\n",
       "      <th>Z_Score</th>\n",
       "    </tr>\n",
       "  </thead>\n",
       "  <tbody>\n",
       "    <tr>\n",
       "      <th>0-9</th>\n",
       "      <td>-0.302383</td>\n",
       "    </tr>\n",
       "    <tr>\n",
       "      <th>10-19</th>\n",
       "      <td>-6.422907</td>\n",
       "    </tr>\n",
       "    <tr>\n",
       "      <th>20-29</th>\n",
       "      <td>-9.007622</td>\n",
       "    </tr>\n",
       "    <tr>\n",
       "      <th>30-39</th>\n",
       "      <td>-7.267860</td>\n",
       "    </tr>\n",
       "    <tr>\n",
       "      <th>40-49</th>\n",
       "      <td>-4.204883</td>\n",
       "    </tr>\n",
       "    <tr>\n",
       "      <th>49-59</th>\n",
       "      <td>-4.890327</td>\n",
       "    </tr>\n",
       "    <tr>\n",
       "      <th>60-69</th>\n",
       "      <td>-3.440826</td>\n",
       "    </tr>\n",
       "  </tbody>\n",
       "</table>\n",
       "</div>"
      ],
      "text/plain": [
       "        Z_Score\n",
       "0-9   -0.302383\n",
       "10-19 -6.422907\n",
       "20-29 -9.007622\n",
       "30-39 -7.267860\n",
       "40-49 -4.204883\n",
       "49-59 -4.890327\n",
       "60-69 -3.440826"
      ]
     },
     "execution_count": 109,
     "metadata": {},
     "output_type": "execute_result"
    }
   ],
   "source": [
    "#Put Z-Scores in nice format and show DataFrame\n",
    "t_scores_table = pd.DataFrame(t_score.values, index =[\"0-9\", \"10-19\", \"20-29\", \"30-39\", \"40-49\", \"49-59\", \"60-69\"], columns = [\"Z_Score\"])\n",
    "t_scores_table"
   ]
  },
  {
   "cell_type": "markdown",
   "metadata": {},
   "source": [
    "Automated function that checks whether the t_score in the DataFrame above is statistically significant and if we can reject or fail to reject the null"
   ]
  },
  {
   "cell_type": "code",
   "execution_count": 110,
   "metadata": {
    "collapsed": false
   },
   "outputs": [
    {
     "data": {
      "text/html": [
       "<div>\n",
       "<table border=\"1\" class=\"dataframe\">\n",
       "  <thead>\n",
       "    <tr style=\"text-align: right;\">\n",
       "      <th></th>\n",
       "      <th>Z_Score</th>\n",
       "    </tr>\n",
       "  </thead>\n",
       "  <tbody>\n",
       "    <tr>\n",
       "      <th>0-9</th>\n",
       "      <td>Fail to reject null</td>\n",
       "    </tr>\n",
       "    <tr>\n",
       "      <th>10-19</th>\n",
       "      <td>Reject null</td>\n",
       "    </tr>\n",
       "    <tr>\n",
       "      <th>20-29</th>\n",
       "      <td>Reject null</td>\n",
       "    </tr>\n",
       "    <tr>\n",
       "      <th>30-39</th>\n",
       "      <td>Reject null</td>\n",
       "    </tr>\n",
       "    <tr>\n",
       "      <th>40-49</th>\n",
       "      <td>Reject null</td>\n",
       "    </tr>\n",
       "    <tr>\n",
       "      <th>49-59</th>\n",
       "      <td>Reject null</td>\n",
       "    </tr>\n",
       "    <tr>\n",
       "      <th>60-69</th>\n",
       "      <td>Reject null</td>\n",
       "    </tr>\n",
       "  </tbody>\n",
       "</table>\n",
       "</div>"
      ],
      "text/plain": [
       "                   Z_Score\n",
       "0-9    Fail to reject null\n",
       "10-19          Reject null\n",
       "20-29          Reject null\n",
       "30-39          Reject null\n",
       "40-49          Reject null\n",
       "49-59          Reject null\n",
       "60-69          Reject null"
      ]
     },
     "execution_count": 110,
     "metadata": {},
     "output_type": "execute_result"
    }
   ],
   "source": [
    "def stats_sig(t_score):\n",
    "    if t_score > -1.96 and t_score <1.96:\n",
    "        return \"Fail to reject null\"\n",
    "    else:\n",
    "        return \"Reject null\"\n",
    "    \n",
    "#Check whether Z-Score is statistically significant    \n",
    "t_scores_table.applymap(stats_sig)"
   ]
  },
  {
   "cell_type": "markdown",
   "metadata": {},
   "source": [
    "Measuring effect size using Cohen's H"
   ]
  },
  {
   "cell_type": "code",
   "execution_count": 111,
   "metadata": {
    "collapsed": false
   },
   "outputs": [
    {
     "data": {
      "text/html": [
       "<div>\n",
       "<table border=\"1\" class=\"dataframe\">\n",
       "  <thead>\n",
       "    <tr style=\"text-align: right;\">\n",
       "      <th></th>\n",
       "      <th>Cohens_H</th>\n",
       "    </tr>\n",
       "  </thead>\n",
       "  <tbody>\n",
       "    <tr>\n",
       "      <th>0-9</th>\n",
       "      <td>0.075670</td>\n",
       "    </tr>\n",
       "    <tr>\n",
       "      <th>10-19</th>\n",
       "      <td>1.288377</td>\n",
       "    </tr>\n",
       "    <tr>\n",
       "      <th>20-29</th>\n",
       "      <td>1.293994</td>\n",
       "    </tr>\n",
       "    <tr>\n",
       "      <th>30-39</th>\n",
       "      <td>1.308326</td>\n",
       "    </tr>\n",
       "    <tr>\n",
       "      <th>40-49</th>\n",
       "      <td>0.961523</td>\n",
       "    </tr>\n",
       "    <tr>\n",
       "      <th>49-59</th>\n",
       "      <td>1.825300</td>\n",
       "    </tr>\n",
       "    <tr>\n",
       "      <th>60-69</th>\n",
       "      <td>2.600493</td>\n",
       "    </tr>\n",
       "  </tbody>\n",
       "</table>\n",
       "</div>"
      ],
      "text/plain": [
       "       Cohens_H\n",
       "0-9    0.075670\n",
       "10-19  1.288377\n",
       "20-29  1.293994\n",
       "30-39  1.308326\n",
       "40-49  0.961523\n",
       "49-59  1.825300\n",
       "60-69  2.600493"
      ]
     },
     "execution_count": 111,
     "metadata": {},
     "output_type": "execute_result"
    }
   ],
   "source": [
    "#Calculate Cohen's H for proportion effect size\n",
    "male_d = 2*np.arcsin(survival_by_age_bins_male_mean**.5)\n",
    "female_d = 2*np.arcsin(survival_by_age_bins_female_mean**.5 )\n",
    "\n",
    "cohensh= pd.Series(np.absolute(male_d.values - female_d.values), index = female_d.index)\n",
    "Cohen_table = pd.DataFrame(cohensh.values, index =[\"0-9\", \"10-19\", \"20-29\", \"30-39\", \"40-49\", \"49-59\", \"60-69\"], columns =[\"Cohens_H\"])\n",
    "\n",
    "\n",
    "Cohen_table\n"
   ]
  },
  {
   "cell_type": "markdown",
   "metadata": {},
   "source": [
    "For each age interval, Cohen's h is the distance in between women and men survival proportions with respect to their pooled standard deviation. As we can see, in all age interval excluding age interval 0-9, all the cohen's h values are all greater than $h = .8$, which is the cut-off value for a \"large difference\". This let's us know that the difference between the proportions are meaningful."
   ]
  },
  {
   "cell_type": "markdown",
   "metadata": {},
   "source": [
    "#### Conclusion"
   ]
  },
  {
   "cell_type": "markdown",
   "metadata": {},
   "source": [
    "For each age interval of 10 there is a statistically significant difference between gender proportions of survival at an alpha level of 5% for a two-tailed test, except for ages 0-9. This mean that women and men did not have an equal proportion of survival, except for children of ages 0-9. And through the use of cohen's h, we can determine that the difference between proportions is also meaninful and significantly large for all cases that rejected the null hypothesis.\n",
    "\n",
    "The analysis of the data indicates that women had a greater likelyhood of survving the titanic in comparison to men. Aside from gender, age is also an indicator survival, because children regardless of sex survived at equal proportions. In every other age group, it seemed that women and men did not have equal proportions of survival since the null hyptothesis was rejected at an alpha level of 5%. This means that given a sample of equal size to the ones we have in each age-bin, we are going to get a mean difference that is not 0 at a frequency of 95% of the time. Therfore,  children and women were more likely to survive the titanic."
   ]
  },
  {
   "cell_type": "markdown",
   "metadata": {},
   "source": [
    "## Investigating whether Embarkment and Class is relatable to survival?"
   ]
  },
  {
   "cell_type": "code",
   "execution_count": 112,
   "metadata": {
    "collapsed": false
   },
   "outputs": [
    {
     "data": {
      "image/png": "[encoded data removed]",
      "text/plain": [
       "<matplotlib.figure.Figure at 0x11aa7e450>"
      ]
     },
     "metadata": {},
     "output_type": "display_data"
    },
    {
     "name": "stdout",
     "output_type": "stream",
     "text": [
      "Populating the interactive namespace from numpy and matplotlib\n"
     ]
    },
    {
     "data": {
      "image/png": "[encoded data removed]",
      "text/plain": [
       "<matplotlib.figure.Figure at 0x118b2c890>"
      ]
     },
     "metadata": {},
     "output_type": "display_data"
    }
   ],
   "source": [
    "#Using titanic_age_drop because it is a cleaned version of titanic_df with no NAN values for Age\n",
    "\n",
    "on_titanic = titanic_age_drop.groupby(\"Embarked\")[\"Survived\"].count()\n",
    "location = [1,2, 3]\n",
    "x_ticks = [\"Cherbourg\", \"Queenstown\", \"Southampton\"]\n",
    "\n",
    "plt.bar(location, on_titanic, align = \"center\")\n",
    "\n",
    "plt.xticks(location, x_ticks)\n",
    "plt.xlabel(\"Embarkment Locations\")\n",
    "plt.ylabel(\"On Titanic\")\n",
    "plt.title(\"Count of Passengers on the Titanic by Embarkment Location\")\n",
    "plt.show()\n",
    "\n",
    "%pylab inline\n",
    "on_titanic_survival = titanic_age_drop.groupby(\"Embarked\")[\"Survived\"].mean()\n",
    "x_ticks = [\"Cherbourg\", \"Queenstown\", \"Southampton\"]\n",
    "\n",
    "plt.bar(location, on_titanic_survival, align = \"center\")\n",
    "\n",
    "plt.xticks(location, x_ticks)\n",
    "plt.xlabel(\"Embarkment Location\")\n",
    "plt.ylabel(\"On Titanic Proportions of Survival\")\n",
    "plt.title(\"Proportion of Survival on the Titanic by Embarkment Location\")\n",
    "plt.show()"
   ]
  },
  {
   "cell_type": "markdown",
   "metadata": {},
   "source": [
    "Cherbourg had the highest proportion of passengers that survived, then Southampton and finally, Queenstown had the lowest proportion from all the embarkment locations. This is interesting because Southampton had the highest amount of Passengers embark than any other location, followed by Cherbourg and finally Queenstown. "
   ]
  },
  {
   "cell_type": "markdown",
   "metadata": {},
   "source": [
    "Now, we are going to check Pclass surviving passengers"
   ]
  },
  {
   "cell_type": "code",
   "execution_count": 113,
   "metadata": {
    "collapsed": false
   },
   "outputs": [
    {
     "name": "stdout",
     "output_type": "stream",
     "text": [
      "Populating the interactive namespace from numpy and matplotlib\n"
     ]
    },
    {
     "data": {
      "image/png": "[encoded data removed]",
      "text/plain": [
       "<matplotlib.figure.Figure at 0x119d9f490>"
      ]
     },
     "metadata": {},
     "output_type": "display_data"
    },
    {
     "data": {
      "image/png": "[encoded data removed]",
      "text/plain": [
       "<matplotlib.figure.Figure at 0x119254e90>"
      ]
     },
     "metadata": {},
     "output_type": "display_data"
    }
   ],
   "source": [
    "%pylab inline\n",
    "on_titanic = titanic_df.groupby(\"Pclass\")[\"Survived\"].count()\n",
    "location = [1,2, 3]\n",
    "x_ticks = [\"1st\", \"2nd\", \"3rd\"]\n",
    "\n",
    "plt.bar(location, on_titanic, align = \"center\")\n",
    "\n",
    "plt.xticks(location, x_ticks)\n",
    "plt.xlabel(\"Pclass\")\n",
    "plt.ylabel(\"On Titanic Pclass\")\n",
    "plt.title(\"Pclass on the Titanic\")\n",
    "plt.show()\n",
    "\n",
    "on_titanic = titanic_df.groupby(\"Pclass\")[\"Survived\"].mean()\n",
    "location = [1,2, 3]\n",
    "x_ticks = [\"1st\", \"2nd\", \"3rd\"]\n",
    "\n",
    "plt.bar(location, on_titanic, align = \"center\")\n",
    "\n",
    "plt.xticks(location, x_ticks)\n",
    "plt.xlabel(\"Pclass\")\n",
    "plt.ylabel(\"On Titanic Pclass Survived Proportions\")\n",
    "plt.title(\"Pclass Survival Proportion on the Titanic\")\n",
    "plt.show()"
   ]
  },
  {
   "cell_type": "code",
   "execution_count": 114,
   "metadata": {
    "collapsed": false
   },
   "outputs": [
    {
     "data": {
      "text/html": [
       "<div>\n",
       "<table border=\"1\" class=\"dataframe\">\n",
       "  <thead>\n",
       "    <tr style=\"text-align: right;\">\n",
       "      <th></th>\n",
       "      <th>Embarked</th>\n",
       "      <th>Pclass</th>\n",
       "      <th>Survived</th>\n",
       "      <th>Survived_Count</th>\n",
       "      <th>Passenger_Count</th>\n",
       "    </tr>\n",
       "  </thead>\n",
       "  <tbody>\n",
       "    <tr>\n",
       "      <th>0</th>\n",
       "      <td>C</td>\n",
       "      <td>1</td>\n",
       "      <td>0.716216</td>\n",
       "      <td>53</td>\n",
       "      <td>74</td>\n",
       "    </tr>\n",
       "    <tr>\n",
       "      <th>1</th>\n",
       "      <td>C</td>\n",
       "      <td>2</td>\n",
       "      <td>0.533333</td>\n",
       "      <td>8</td>\n",
       "      <td>15</td>\n",
       "    </tr>\n",
       "    <tr>\n",
       "      <th>2</th>\n",
       "      <td>C</td>\n",
       "      <td>3</td>\n",
       "      <td>0.439024</td>\n",
       "      <td>18</td>\n",
       "      <td>41</td>\n",
       "    </tr>\n",
       "    <tr>\n",
       "      <th>3</th>\n",
       "      <td>Q</td>\n",
       "      <td>1</td>\n",
       "      <td>0.500000</td>\n",
       "      <td>1</td>\n",
       "      <td>2</td>\n",
       "    </tr>\n",
       "    <tr>\n",
       "      <th>4</th>\n",
       "      <td>Q</td>\n",
       "      <td>2</td>\n",
       "      <td>0.500000</td>\n",
       "      <td>1</td>\n",
       "      <td>2</td>\n",
       "    </tr>\n",
       "    <tr>\n",
       "      <th>5</th>\n",
       "      <td>Q</td>\n",
       "      <td>3</td>\n",
       "      <td>0.250000</td>\n",
       "      <td>6</td>\n",
       "      <td>24</td>\n",
       "    </tr>\n",
       "    <tr>\n",
       "      <th>6</th>\n",
       "      <td>S</td>\n",
       "      <td>1</td>\n",
       "      <td>0.611111</td>\n",
       "      <td>66</td>\n",
       "      <td>108</td>\n",
       "    </tr>\n",
       "    <tr>\n",
       "      <th>7</th>\n",
       "      <td>S</td>\n",
       "      <td>2</td>\n",
       "      <td>0.474359</td>\n",
       "      <td>74</td>\n",
       "      <td>156</td>\n",
       "    </tr>\n",
       "    <tr>\n",
       "      <th>8</th>\n",
       "      <td>S</td>\n",
       "      <td>3</td>\n",
       "      <td>0.210345</td>\n",
       "      <td>61</td>\n",
       "      <td>290</td>\n",
       "    </tr>\n",
       "  </tbody>\n",
       "</table>\n",
       "</div>"
      ],
      "text/plain": [
       "  Embarked  Pclass  Survived  Survived_Count  Passenger_Count\n",
       "0        C       1  0.716216              53               74\n",
       "1        C       2  0.533333               8               15\n",
       "2        C       3  0.439024              18               41\n",
       "3        Q       1  0.500000               1                2\n",
       "4        Q       2  0.500000               1                2\n",
       "5        Q       3  0.250000               6               24\n",
       "6        S       1  0.611111              66              108\n",
       "7        S       2  0.474359              74              156\n",
       "8        S       3  0.210345              61              290"
      ]
     },
     "execution_count": 114,
     "metadata": {},
     "output_type": "execute_result"
    }
   ],
   "source": [
    "#Combine Embarked data with Pclass data to determine which combinatino had the highest proportion of survival\n",
    "on_titanic = titanic_df.groupby([\"Embarked\",\"Pclass\"], as_index = False)[\"Survived\"].mean()\n",
    "on_titanic[\"Survived_Count\"] = titanic_df.groupby([\"Embarked\",\"Pclass\"])[\"Survived\"].sum().values\n",
    "on_titanic[\"Passenger_Count\"] = titanic_df.groupby([\"Embarked\",\"Pclass\"])[\"Survived\"].count().values\n",
    "\n",
    "on_titanic\n"
   ]
  },
  {
   "cell_type": "markdown",
   "metadata": {},
   "source": [
    "From this chart, we can see that every Pclass had a higher proportion of survival when they embarked on location Cherbourg. Now this is observational, because I have not tested whether there really is a difference between the independent variables that could change the outcome of the dependent variable. Another important aspect of the analysis to note, is whether independent variable is really contributing to the survival of the passenger, or if the survival should be attributed to a lurking variable. A lurking variable might be that the majority of women or children on the titanic embarked on Cherbourg. But from an observational point of view, embarking on the titanic from embarkment Queenstown has a low survival proportion compared to the other two embarkments and those who belonged to the 3rd Pclass had the lowest proportion of survivors on the Titanic.\n"
   ]
  },
  {
   "cell_type": "markdown",
   "metadata": {},
   "source": [
    "## Investigation Recommendation"
   ]
  },
  {
   "cell_type": "markdown",
   "metadata": {},
   "source": [
    "For further investigations I recommend diving into the relationship between Sex and Age_bin with regards to Pclass and embarkment. The following DataFrame tables are different slices of the data. Another situation that I would investigate is whether having children contributed to the survival of parents, and whether men who had children survived at a higher proportion that men who did not."
   ]
  },
  {
   "cell_type": "code",
   "execution_count": 115,
   "metadata": {
    "collapsed": false
   },
   "outputs": [
    {
     "data": {
      "text/html": [
       "<div>\n",
       "<table border=\"1\" class=\"dataframe\">\n",
       "  <thead>\n",
       "    <tr style=\"text-align: right;\">\n",
       "      <th></th>\n",
       "      <th>Embarked</th>\n",
       "      <th>Pclass</th>\n",
       "      <th>Sex</th>\n",
       "      <th>Survived</th>\n",
       "      <th>Survived_Count</th>\n",
       "      <th>Passenger_Count</th>\n",
       "    </tr>\n",
       "  </thead>\n",
       "  <tbody>\n",
       "    <tr>\n",
       "      <th>0</th>\n",
       "      <td>C</td>\n",
       "      <td>1</td>\n",
       "      <td>female</td>\n",
       "      <td>0.973684</td>\n",
       "      <td>37</td>\n",
       "      <td>38</td>\n",
       "    </tr>\n",
       "    <tr>\n",
       "      <th>2</th>\n",
       "      <td>C</td>\n",
       "      <td>2</td>\n",
       "      <td>female</td>\n",
       "      <td>1.000000</td>\n",
       "      <td>7</td>\n",
       "      <td>7</td>\n",
       "    </tr>\n",
       "    <tr>\n",
       "      <th>4</th>\n",
       "      <td>C</td>\n",
       "      <td>3</td>\n",
       "      <td>female</td>\n",
       "      <td>0.687500</td>\n",
       "      <td>11</td>\n",
       "      <td>16</td>\n",
       "    </tr>\n",
       "    <tr>\n",
       "      <th>6</th>\n",
       "      <td>Q</td>\n",
       "      <td>1</td>\n",
       "      <td>female</td>\n",
       "      <td>1.000000</td>\n",
       "      <td>1</td>\n",
       "      <td>1</td>\n",
       "    </tr>\n",
       "    <tr>\n",
       "      <th>8</th>\n",
       "      <td>Q</td>\n",
       "      <td>2</td>\n",
       "      <td>female</td>\n",
       "      <td>1.000000</td>\n",
       "      <td>1</td>\n",
       "      <td>1</td>\n",
       "    </tr>\n",
       "    <tr>\n",
       "      <th>10</th>\n",
       "      <td>Q</td>\n",
       "      <td>3</td>\n",
       "      <td>female</td>\n",
       "      <td>0.500000</td>\n",
       "      <td>5</td>\n",
       "      <td>10</td>\n",
       "    </tr>\n",
       "    <tr>\n",
       "      <th>12</th>\n",
       "      <td>S</td>\n",
       "      <td>1</td>\n",
       "      <td>female</td>\n",
       "      <td>0.954545</td>\n",
       "      <td>42</td>\n",
       "      <td>44</td>\n",
       "    </tr>\n",
       "    <tr>\n",
       "      <th>14</th>\n",
       "      <td>S</td>\n",
       "      <td>2</td>\n",
       "      <td>female</td>\n",
       "      <td>0.909091</td>\n",
       "      <td>60</td>\n",
       "      <td>66</td>\n",
       "    </tr>\n",
       "    <tr>\n",
       "      <th>16</th>\n",
       "      <td>S</td>\n",
       "      <td>3</td>\n",
       "      <td>female</td>\n",
       "      <td>0.407895</td>\n",
       "      <td>31</td>\n",
       "      <td>76</td>\n",
       "    </tr>\n",
       "  </tbody>\n",
       "</table>\n",
       "</div>"
      ],
      "text/plain": [
       "   Embarked  Pclass     Sex  Survived  Survived_Count  Passenger_Count\n",
       "0         C       1  female  0.973684              37               38\n",
       "2         C       2  female  1.000000               7                7\n",
       "4         C       3  female  0.687500              11               16\n",
       "6         Q       1  female  1.000000               1                1\n",
       "8         Q       2  female  1.000000               1                1\n",
       "10        Q       3  female  0.500000               5               10\n",
       "12        S       1  female  0.954545              42               44\n",
       "14        S       2  female  0.909091              60               66\n",
       "16        S       3  female  0.407895              31               76"
      ]
     },
     "execution_count": 115,
     "metadata": {},
     "output_type": "execute_result"
    }
   ],
   "source": [
    "#Combine the previous DataFrame with Chart to get results for females\n",
    "on_titanic = titanic_df.groupby([\"Embarked\",\"Pclass\", \"Sex\"], as_index = False)[\"Survived\"].mean()\n",
    "on_titanic[\"Survived_Count\"] = titanic_df.groupby([\"Embarked\",\"Pclass\", \"Sex\"])[\"Survived\"].sum().values\n",
    "on_titanic[\"Passenger_Count\"] = titanic_df.groupby([\"Embarked\",\"Pclass\", \"Sex\"])[\"Survived\"].count().values\n",
    "\n",
    "on_titanic[on_titanic[\"Sex\"]==\"female\"]\n",
    "\n"
   ]
  },
  {
   "cell_type": "code",
   "execution_count": 116,
   "metadata": {
    "collapsed": false
   },
   "outputs": [
    {
     "data": {
      "text/html": [
       "<div>\n",
       "<table border=\"1\" class=\"dataframe\">\n",
       "  <thead>\n",
       "    <tr style=\"text-align: right;\">\n",
       "      <th></th>\n",
       "      <th>Embarked</th>\n",
       "      <th>Pclass</th>\n",
       "      <th>Sex</th>\n",
       "      <th>Survived</th>\n",
       "      <th>Survived_Count</th>\n",
       "      <th>Passenger_Count</th>\n",
       "    </tr>\n",
       "  </thead>\n",
       "  <tbody>\n",
       "    <tr>\n",
       "      <th>1</th>\n",
       "      <td>C</td>\n",
       "      <td>1</td>\n",
       "      <td>male</td>\n",
       "      <td>0.444444</td>\n",
       "      <td>16</td>\n",
       "      <td>36</td>\n",
       "    </tr>\n",
       "    <tr>\n",
       "      <th>3</th>\n",
       "      <td>C</td>\n",
       "      <td>2</td>\n",
       "      <td>male</td>\n",
       "      <td>0.125000</td>\n",
       "      <td>1</td>\n",
       "      <td>8</td>\n",
       "    </tr>\n",
       "    <tr>\n",
       "      <th>5</th>\n",
       "      <td>C</td>\n",
       "      <td>3</td>\n",
       "      <td>male</td>\n",
       "      <td>0.280000</td>\n",
       "      <td>7</td>\n",
       "      <td>25</td>\n",
       "    </tr>\n",
       "    <tr>\n",
       "      <th>7</th>\n",
       "      <td>Q</td>\n",
       "      <td>1</td>\n",
       "      <td>male</td>\n",
       "      <td>0.000000</td>\n",
       "      <td>0</td>\n",
       "      <td>1</td>\n",
       "    </tr>\n",
       "    <tr>\n",
       "      <th>9</th>\n",
       "      <td>Q</td>\n",
       "      <td>2</td>\n",
       "      <td>male</td>\n",
       "      <td>0.000000</td>\n",
       "      <td>0</td>\n",
       "      <td>1</td>\n",
       "    </tr>\n",
       "    <tr>\n",
       "      <th>11</th>\n",
       "      <td>Q</td>\n",
       "      <td>3</td>\n",
       "      <td>male</td>\n",
       "      <td>0.071429</td>\n",
       "      <td>1</td>\n",
       "      <td>14</td>\n",
       "    </tr>\n",
       "    <tr>\n",
       "      <th>13</th>\n",
       "      <td>S</td>\n",
       "      <td>1</td>\n",
       "      <td>male</td>\n",
       "      <td>0.375000</td>\n",
       "      <td>24</td>\n",
       "      <td>64</td>\n",
       "    </tr>\n",
       "    <tr>\n",
       "      <th>15</th>\n",
       "      <td>S</td>\n",
       "      <td>2</td>\n",
       "      <td>male</td>\n",
       "      <td>0.155556</td>\n",
       "      <td>14</td>\n",
       "      <td>90</td>\n",
       "    </tr>\n",
       "    <tr>\n",
       "      <th>17</th>\n",
       "      <td>S</td>\n",
       "      <td>3</td>\n",
       "      <td>male</td>\n",
       "      <td>0.140187</td>\n",
       "      <td>30</td>\n",
       "      <td>214</td>\n",
       "    </tr>\n",
       "  </tbody>\n",
       "</table>\n",
       "</div>"
      ],
      "text/plain": [
       "   Embarked  Pclass   Sex  Survived  Survived_Count  Passenger_Count\n",
       "1         C       1  male  0.444444              16               36\n",
       "3         C       2  male  0.125000               1                8\n",
       "5         C       3  male  0.280000               7               25\n",
       "7         Q       1  male  0.000000               0                1\n",
       "9         Q       2  male  0.000000               0                1\n",
       "11        Q       3  male  0.071429               1               14\n",
       "13        S       1  male  0.375000              24               64\n",
       "15        S       2  male  0.155556              14               90\n",
       "17        S       3  male  0.140187              30              214"
      ]
     },
     "execution_count": 116,
     "metadata": {},
     "output_type": "execute_result"
    }
   ],
   "source": [
    "#Combine the previous DataFrame with Chart to get results for males\n",
    "\n",
    "on_titanic[on_titanic[\"Sex\"]==\"male\"]"
   ]
  },
  {
   "cell_type": "code",
   "execution_count": 117,
   "metadata": {
    "collapsed": false
   },
   "outputs": [
    {
     "data": {
      "text/html": [
       "<div>\n",
       "<table border=\"1\" class=\"dataframe\">\n",
       "  <thead>\n",
       "    <tr style=\"text-align: right;\">\n",
       "      <th></th>\n",
       "      <th>Embarked</th>\n",
       "      <th>Pclass</th>\n",
       "      <th>Sex</th>\n",
       "      <th>Age_Bin</th>\n",
       "      <th>Survived</th>\n",
       "      <th>Survived_Count</th>\n",
       "      <th>Passenger_Count</th>\n",
       "    </tr>\n",
       "  </thead>\n",
       "  <tbody>\n",
       "    <tr>\n",
       "      <th>0</th>\n",
       "      <td>C</td>\n",
       "      <td>1</td>\n",
       "      <td>female</td>\n",
       "      <td>10-19</td>\n",
       "      <td>1.000000</td>\n",
       "      <td>5</td>\n",
       "      <td>5</td>\n",
       "    </tr>\n",
       "    <tr>\n",
       "      <th>1</th>\n",
       "      <td>C</td>\n",
       "      <td>1</td>\n",
       "      <td>female</td>\n",
       "      <td>20-29</td>\n",
       "      <td>1.000000</td>\n",
       "      <td>10</td>\n",
       "      <td>10</td>\n",
       "    </tr>\n",
       "    <tr>\n",
       "      <th>2</th>\n",
       "      <td>C</td>\n",
       "      <td>1</td>\n",
       "      <td>female</td>\n",
       "      <td>30-39</td>\n",
       "      <td>1.000000</td>\n",
       "      <td>9</td>\n",
       "      <td>9</td>\n",
       "    </tr>\n",
       "    <tr>\n",
       "      <th>3</th>\n",
       "      <td>C</td>\n",
       "      <td>1</td>\n",
       "      <td>female</td>\n",
       "      <td>40-49</td>\n",
       "      <td>0.875000</td>\n",
       "      <td>7</td>\n",
       "      <td>8</td>\n",
       "    </tr>\n",
       "    <tr>\n",
       "      <th>4</th>\n",
       "      <td>C</td>\n",
       "      <td>1</td>\n",
       "      <td>female</td>\n",
       "      <td>50-59</td>\n",
       "      <td>1.000000</td>\n",
       "      <td>6</td>\n",
       "      <td>6</td>\n",
       "    </tr>\n",
       "    <tr>\n",
       "      <th>12</th>\n",
       "      <td>C</td>\n",
       "      <td>2</td>\n",
       "      <td>female</td>\n",
       "      <td>0-9</td>\n",
       "      <td>1.000000</td>\n",
       "      <td>1</td>\n",
       "      <td>1</td>\n",
       "    </tr>\n",
       "    <tr>\n",
       "      <th>13</th>\n",
       "      <td>C</td>\n",
       "      <td>2</td>\n",
       "      <td>female</td>\n",
       "      <td>10-19</td>\n",
       "      <td>1.000000</td>\n",
       "      <td>2</td>\n",
       "      <td>2</td>\n",
       "    </tr>\n",
       "    <tr>\n",
       "      <th>14</th>\n",
       "      <td>C</td>\n",
       "      <td>2</td>\n",
       "      <td>female</td>\n",
       "      <td>20-29</td>\n",
       "      <td>1.000000</td>\n",
       "      <td>4</td>\n",
       "      <td>4</td>\n",
       "    </tr>\n",
       "    <tr>\n",
       "      <th>18</th>\n",
       "      <td>C</td>\n",
       "      <td>3</td>\n",
       "      <td>female</td>\n",
       "      <td>0-9</td>\n",
       "      <td>0.833333</td>\n",
       "      <td>5</td>\n",
       "      <td>6</td>\n",
       "    </tr>\n",
       "    <tr>\n",
       "      <th>19</th>\n",
       "      <td>C</td>\n",
       "      <td>3</td>\n",
       "      <td>female</td>\n",
       "      <td>10-19</td>\n",
       "      <td>0.571429</td>\n",
       "      <td>4</td>\n",
       "      <td>7</td>\n",
       "    </tr>\n",
       "    <tr>\n",
       "      <th>20</th>\n",
       "      <td>C</td>\n",
       "      <td>3</td>\n",
       "      <td>female</td>\n",
       "      <td>20-29</td>\n",
       "      <td>1.000000</td>\n",
       "      <td>2</td>\n",
       "      <td>2</td>\n",
       "    </tr>\n",
       "    <tr>\n",
       "      <th>21</th>\n",
       "      <td>C</td>\n",
       "      <td>3</td>\n",
       "      <td>female</td>\n",
       "      <td>40-49</td>\n",
       "      <td>0.000000</td>\n",
       "      <td>0</td>\n",
       "      <td>1</td>\n",
       "    </tr>\n",
       "    <tr>\n",
       "      <th>27</th>\n",
       "      <td>Q</td>\n",
       "      <td>1</td>\n",
       "      <td>female</td>\n",
       "      <td>30-39</td>\n",
       "      <td>1.000000</td>\n",
       "      <td>1</td>\n",
       "      <td>1</td>\n",
       "    </tr>\n",
       "    <tr>\n",
       "      <th>29</th>\n",
       "      <td>Q</td>\n",
       "      <td>2</td>\n",
       "      <td>female</td>\n",
       "      <td>20-29</td>\n",
       "      <td>1.000000</td>\n",
       "      <td>1</td>\n",
       "      <td>1</td>\n",
       "    </tr>\n",
       "    <tr>\n",
       "      <th>31</th>\n",
       "      <td>Q</td>\n",
       "      <td>3</td>\n",
       "      <td>female</td>\n",
       "      <td>10-19</td>\n",
       "      <td>0.800000</td>\n",
       "      <td>4</td>\n",
       "      <td>5</td>\n",
       "    </tr>\n",
       "    <tr>\n",
       "      <th>32</th>\n",
       "      <td>Q</td>\n",
       "      <td>3</td>\n",
       "      <td>female</td>\n",
       "      <td>20-29</td>\n",
       "      <td>0.500000</td>\n",
       "      <td>1</td>\n",
       "      <td>2</td>\n",
       "    </tr>\n",
       "    <tr>\n",
       "      <th>33</th>\n",
       "      <td>Q</td>\n",
       "      <td>3</td>\n",
       "      <td>female</td>\n",
       "      <td>30-39</td>\n",
       "      <td>0.000000</td>\n",
       "      <td>0</td>\n",
       "      <td>3</td>\n",
       "    </tr>\n",
       "    <tr>\n",
       "      <th>41</th>\n",
       "      <td>S</td>\n",
       "      <td>1</td>\n",
       "      <td>female</td>\n",
       "      <td>0-9</td>\n",
       "      <td>0.000000</td>\n",
       "      <td>0</td>\n",
       "      <td>1</td>\n",
       "    </tr>\n",
       "    <tr>\n",
       "      <th>42</th>\n",
       "      <td>S</td>\n",
       "      <td>1</td>\n",
       "      <td>female</td>\n",
       "      <td>10-19</td>\n",
       "      <td>1.000000</td>\n",
       "      <td>8</td>\n",
       "      <td>8</td>\n",
       "    </tr>\n",
       "    <tr>\n",
       "      <th>43</th>\n",
       "      <td>S</td>\n",
       "      <td>1</td>\n",
       "      <td>female</td>\n",
       "      <td>20-29</td>\n",
       "      <td>0.909091</td>\n",
       "      <td>10</td>\n",
       "      <td>11</td>\n",
       "    </tr>\n",
       "    <tr>\n",
       "      <th>44</th>\n",
       "      <td>S</td>\n",
       "      <td>1</td>\n",
       "      <td>female</td>\n",
       "      <td>30-39</td>\n",
       "      <td>1.000000</td>\n",
       "      <td>13</td>\n",
       "      <td>13</td>\n",
       "    </tr>\n",
       "    <tr>\n",
       "      <th>45</th>\n",
       "      <td>S</td>\n",
       "      <td>1</td>\n",
       "      <td>female</td>\n",
       "      <td>40-49</td>\n",
       "      <td>1.000000</td>\n",
       "      <td>5</td>\n",
       "      <td>5</td>\n",
       "    </tr>\n",
       "    <tr>\n",
       "      <th>46</th>\n",
       "      <td>S</td>\n",
       "      <td>1</td>\n",
       "      <td>female</td>\n",
       "      <td>50-59</td>\n",
       "      <td>1.000000</td>\n",
       "      <td>5</td>\n",
       "      <td>5</td>\n",
       "    </tr>\n",
       "    <tr>\n",
       "      <th>47</th>\n",
       "      <td>S</td>\n",
       "      <td>1</td>\n",
       "      <td>female</td>\n",
       "      <td>60-69</td>\n",
       "      <td>1.000000</td>\n",
       "      <td>1</td>\n",
       "      <td>1</td>\n",
       "    </tr>\n",
       "    <tr>\n",
       "      <th>56</th>\n",
       "      <td>S</td>\n",
       "      <td>2</td>\n",
       "      <td>female</td>\n",
       "      <td>0-9</td>\n",
       "      <td>1.000000</td>\n",
       "      <td>7</td>\n",
       "      <td>7</td>\n",
       "    </tr>\n",
       "    <tr>\n",
       "      <th>57</th>\n",
       "      <td>S</td>\n",
       "      <td>2</td>\n",
       "      <td>female</td>\n",
       "      <td>10-19</td>\n",
       "      <td>1.000000</td>\n",
       "      <td>6</td>\n",
       "      <td>6</td>\n",
       "    </tr>\n",
       "    <tr>\n",
       "      <th>58</th>\n",
       "      <td>S</td>\n",
       "      <td>2</td>\n",
       "      <td>female</td>\n",
       "      <td>20-29</td>\n",
       "      <td>0.869565</td>\n",
       "      <td>20</td>\n",
       "      <td>23</td>\n",
       "    </tr>\n",
       "    <tr>\n",
       "      <th>59</th>\n",
       "      <td>S</td>\n",
       "      <td>2</td>\n",
       "      <td>female</td>\n",
       "      <td>30-39</td>\n",
       "      <td>0.941176</td>\n",
       "      <td>16</td>\n",
       "      <td>17</td>\n",
       "    </tr>\n",
       "    <tr>\n",
       "      <th>60</th>\n",
       "      <td>S</td>\n",
       "      <td>2</td>\n",
       "      <td>female</td>\n",
       "      <td>40-49</td>\n",
       "      <td>0.900000</td>\n",
       "      <td>9</td>\n",
       "      <td>10</td>\n",
       "    </tr>\n",
       "    <tr>\n",
       "      <th>61</th>\n",
       "      <td>S</td>\n",
       "      <td>2</td>\n",
       "      <td>female</td>\n",
       "      <td>50-59</td>\n",
       "      <td>0.666667</td>\n",
       "      <td>2</td>\n",
       "      <td>3</td>\n",
       "    </tr>\n",
       "    <tr>\n",
       "      <th>69</th>\n",
       "      <td>S</td>\n",
       "      <td>3</td>\n",
       "      <td>female</td>\n",
       "      <td>0-9</td>\n",
       "      <td>0.375000</td>\n",
       "      <td>6</td>\n",
       "      <td>16</td>\n",
       "    </tr>\n",
       "    <tr>\n",
       "      <th>70</th>\n",
       "      <td>S</td>\n",
       "      <td>3</td>\n",
       "      <td>female</td>\n",
       "      <td>10-19</td>\n",
       "      <td>0.384615</td>\n",
       "      <td>5</td>\n",
       "      <td>13</td>\n",
       "    </tr>\n",
       "    <tr>\n",
       "      <th>71</th>\n",
       "      <td>S</td>\n",
       "      <td>3</td>\n",
       "      <td>female</td>\n",
       "      <td>20-29</td>\n",
       "      <td>0.464286</td>\n",
       "      <td>13</td>\n",
       "      <td>28</td>\n",
       "    </tr>\n",
       "    <tr>\n",
       "      <th>72</th>\n",
       "      <td>S</td>\n",
       "      <td>3</td>\n",
       "      <td>female</td>\n",
       "      <td>30-39</td>\n",
       "      <td>0.545455</td>\n",
       "      <td>6</td>\n",
       "      <td>11</td>\n",
       "    </tr>\n",
       "    <tr>\n",
       "      <th>73</th>\n",
       "      <td>S</td>\n",
       "      <td>3</td>\n",
       "      <td>female</td>\n",
       "      <td>40-49</td>\n",
       "      <td>0.000000</td>\n",
       "      <td>0</td>\n",
       "      <td>7</td>\n",
       "    </tr>\n",
       "    <tr>\n",
       "      <th>74</th>\n",
       "      <td>S</td>\n",
       "      <td>3</td>\n",
       "      <td>female</td>\n",
       "      <td>60-69</td>\n",
       "      <td>1.000000</td>\n",
       "      <td>1</td>\n",
       "      <td>1</td>\n",
       "    </tr>\n",
       "  </tbody>\n",
       "</table>\n",
       "</div>"
      ],
      "text/plain": [
       "   Embarked  Pclass     Sex Age_Bin  Survived  Survived_Count  Passenger_Count\n",
       "0         C       1  female   10-19  1.000000               5                5\n",
       "1         C       1  female   20-29  1.000000              10               10\n",
       "2         C       1  female   30-39  1.000000               9                9\n",
       "3         C       1  female   40-49  0.875000               7                8\n",
       "4         C       1  female   50-59  1.000000               6                6\n",
       "12        C       2  female     0-9  1.000000               1                1\n",
       "13        C       2  female   10-19  1.000000               2                2\n",
       "14        C       2  female   20-29  1.000000               4                4\n",
       "18        C       3  female     0-9  0.833333               5                6\n",
       "19        C       3  female   10-19  0.571429               4                7\n",
       "20        C       3  female   20-29  1.000000               2                2\n",
       "21        C       3  female   40-49  0.000000               0                1\n",
       "27        Q       1  female   30-39  1.000000               1                1\n",
       "29        Q       2  female   20-29  1.000000               1                1\n",
       "31        Q       3  female   10-19  0.800000               4                5\n",
       "32        Q       3  female   20-29  0.500000               1                2\n",
       "33        Q       3  female   30-39  0.000000               0                3\n",
       "41        S       1  female     0-9  0.000000               0                1\n",
       "42        S       1  female   10-19  1.000000               8                8\n",
       "43        S       1  female   20-29  0.909091              10               11\n",
       "44        S       1  female   30-39  1.000000              13               13\n",
       "45        S       1  female   40-49  1.000000               5                5\n",
       "46        S       1  female   50-59  1.000000               5                5\n",
       "47        S       1  female   60-69  1.000000               1                1\n",
       "56        S       2  female     0-9  1.000000               7                7\n",
       "57        S       2  female   10-19  1.000000               6                6\n",
       "58        S       2  female   20-29  0.869565              20               23\n",
       "59        S       2  female   30-39  0.941176              16               17\n",
       "60        S       2  female   40-49  0.900000               9               10\n",
       "61        S       2  female   50-59  0.666667               2                3\n",
       "69        S       3  female     0-9  0.375000               6               16\n",
       "70        S       3  female   10-19  0.384615               5               13\n",
       "71        S       3  female   20-29  0.464286              13               28\n",
       "72        S       3  female   30-39  0.545455               6               11\n",
       "73        S       3  female   40-49  0.000000               0                7\n",
       "74        S       3  female   60-69  1.000000               1                1"
      ]
     },
     "execution_count": 117,
     "metadata": {},
     "output_type": "execute_result"
    }
   ],
   "source": [
    "#Now, combine Embarkment, Pclass, Sex and Age Bin and check what proportions females had in each category\n",
    "on_titanic = titanic_df.groupby([\"Embarked\",\"Pclass\", \"Sex\", \"Age_Bin\"], as_index = False)[\"Survived\"].mean()\n",
    "on_titanic[\"Survived_Count\"] = titanic_df.groupby([\"Embarked\",\"Pclass\", \"Sex\", \"Age_Bin\"])[\"Survived\"].sum().values\n",
    "on_titanic[\"Passenger_Count\"] = titanic_df.groupby([\"Embarked\",\"Pclass\", \"Sex\", \"Age_Bin\"])[\"Survived\"].count().values\n",
    "\n",
    "on_titanic[on_titanic[\"Sex\"]==\"female\"]\n"
   ]
  },
  {
   "cell_type": "markdown",
   "metadata": {
    "collapsed": true
   },
   "source": [
    "## Overall"
   ]
  },
  {
   "cell_type": "markdown",
   "metadata": {},
   "source": [
    "From the analytical investigation, it is clear that gender played a vital role in surviving the titanic because women were proportionally more likely to survive than men. Age also had a relationship to survival, because it is notable that children had the highest proportion of survival to any other age group. More so, what is notable is that in every age interval of 10, the difference between proportions of survival between men and women were significantly different from, except for children. Thus children of ages 0-9 that were either male or female survived at similar, if not equal, proportions opposed to the other age intervals. \n",
    "\n",
    "Now, Pclass and Embarkment seemed to play a vital role as well, although this is simply based on observation. People that embarked on Southampton had a higher proportion of survival, and although it comes as no surprise, those of Pclass 1 also had a higher proportion of survival. Those that embarked on location Queenstown or were part of Pclass 3 had the highest mortality proportions. Does, those that survived the titanic at higher proportions were notably either children, women, embarked on location S or were of the upper socio-economic status. Personally, this seems to be indicative of the movie Titanic and therefore I trust my findings. "
   ]
  }
 ],
 "metadata": {
  "anaconda-cloud": {},
  "kernelspec": {
   "display_name": "Python [conda root]",
   "language": "python",
   "name": "conda-root-py"
  },
  "language_info": {
   "codemirror_mode": {
    "name": "ipython",
    "version": 2
   },
   "file_extension": ".py",
   "mimetype": "text/x-python",
   "name": "python",
   "nbconvert_exporter": "python",
   "pygments_lexer": "ipython2",
   "version": "2.7.12"
  }
 },
 "nbformat": 4,
 "nbformat_minor": 1
}
